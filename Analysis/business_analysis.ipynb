{
 "cells": [
  {
   "cell_type": "markdown",
   "metadata": {},
   "source": [
    "# Yelp Database Spacial Analysis"
   ]
  },
  {
   "cell_type": "markdown",
   "metadata": {},
   "source": [
    "This notebook is a complement to the Yelp Data Analysis project, where some aspects of the most sucessful business on Yelp are analised, specially the spatial data.\n",
    "\n",
    "Questions analised:\n",
    "\n",
    "- Does any region have business with higher ratings?\n",
    "- Does any region have business with more checkins?\n",
    "- Which categories have higher ratings?\n",
    "- Which attributes contribute more to a higher rating?"
   ]
  },
  {
   "cell_type": "markdown",
   "metadata": {},
   "source": [
    "## Imports and Setup"
   ]
  },
  {
   "cell_type": "code",
   "execution_count": 1,
   "metadata": {},
   "outputs": [],
   "source": [
    "import os\n",
    "import json\n",
    "import numpy as np\n",
    "import pandas as pd\n",
    "import matplotlib.pyplot as plt\n",
    "from keplergl import KeplerGl\n",
    "from pyspark.sql import SparkSession, functions as f\n",
    "from dotenv import load_dotenv\n",
    "from MapConfigs.map_configs import count_map, stars_map, checkins_map"
   ]
  },
  {
   "cell_type": "code",
   "execution_count": 2,
   "metadata": {},
   "outputs": [],
   "source": [
    "load_dotenv()\n",
    "awsAccessKey = os.environ.get('AWS_ACCESS_KEY')\n",
    "awsAccessSecret = os.environ.get('AWS_ACCESS_SECRET')\n",
    "awsS3Directory = os.environ.get('AWS_S3_DIRECTORY')"
   ]
  },
  {
   "cell_type": "markdown",
   "metadata": {},
   "source": [
    "## Read Data"
   ]
  },
  {
   "cell_type": "markdown",
   "metadata": {},
   "source": [
    "For the analysis on this notebook, three main datasets stored on the Data Lake are needed:\n",
    "\n",
    "- The business_data dataset from the Silver Layer, which basically cleaned and formatted data about the business;\n",
    "- The reviews_view dataset from the Gold Layer, which contains the review data grouped by Business (Here, only the Average of Stars is needed)\n",
    "- The checkins_view dataset from the Gold Layer, which contains data about the Checkins agreggated by Business (Here, only the Total of Checkins by Business is needed).\n",
    "\n",
    "This three datasets where directly obtained by the Data Lake on AWS S3 using Pyspark as a tool to load and filter them according to the needs. After loading, all three dataframes were converted to Pandas and joined together to form a unique dataframe."
   ]
  },
  {
   "cell_type": "code",
   "execution_count": 3,
   "metadata": {},
   "outputs": [
    {
     "name": "stdout",
     "output_type": "stream",
     "text": [
      "23/03/28 20:27:33 WARN Utils: Your hostname, pop-os resolves to a loopback address: 127.0.1.1; using 192.168.0.16 instead (on interface enp0s31f6)\n",
      "23/03/28 20:27:33 WARN Utils: Set SPARK_LOCAL_IP if you need to bind to another address\n"
     ]
    },
    {
     "name": "stderr",
     "output_type": "stream",
     "text": [
      "Setting default log level to \"WARN\".\n",
      "To adjust logging level use sc.setLogLevel(newLevel). For SparkR, use setLogLevel(newLevel).\n"
     ]
    },
    {
     "name": "stdout",
     "output_type": "stream",
     "text": [
      "23/03/28 20:27:34 WARN NativeCodeLoader: Unable to load native-hadoop library for your platform... using builtin-java classes where applicable\n",
      "23/03/28 20:27:35 WARN MetricsConfig: Cannot locate configuration: tried hadoop-metrics2-s3a-file-system.properties,hadoop-metrics2.properties\n"
     ]
    },
    {
     "name": "stderr",
     "output_type": "stream",
     "text": [
      "                                                                                \r"
     ]
    }
   ],
   "source": [
    "spark = SparkSession.builder.appName(\"Business Data Analysis\").getOrCreate()\n",
    "\n",
    "spark.sparkContext\\\n",
    "     ._jsc.hadoopConfiguration().set(\"fs.s3a.access.key\", awsAccessKey)\n",
    "spark.sparkContext\\\n",
    "     ._jsc.hadoopConfiguration().set(\"fs.s3a.secret.key\", awsAccessSecret)\n",
    "spark.sparkContext\\\n",
    "      ._jsc.hadoopConfiguration().set(\"fs.s3a.endpoint\", \"s3.amazonaws.com\")\n",
    "spark.sparkContext\\\n",
    "      ._jsc.hadoopConfiguration().set(\"fs.s3a.impl\", \"org.apache.hadoop.fs.s3a.S3AFileSystem\")\n",
    "\n",
    "business_df = spark.read.option(\"inferSchema\",\"true\").parquet(awsS3Directory + \"/Silver/business_data\").toPandas()\n",
    "business_ratings_df = spark.read.option(\"inferSchema\",\"true\").parquet(awsS3Directory + \"/Gold/reviews_view\")\\\n",
    "                           .select([\"business_id\",\"avg_stars\"]).toPandas()\n",
    "business_checkins_df = spark.read.option(\"inferSchema\",\"true\").parquet(awsS3Directory + \"/Gold/checkins_view\")\\\n",
    "                           .groupBy(\"business_id\").agg(f.sum(\"count\").alias(\"checkins\")).toPandas()"
   ]
  },
  {
   "cell_type": "code",
   "execution_count": 4,
   "metadata": {},
   "outputs": [
    {
     "data": {
      "text/html": [
       "<div>\n",
       "<style scoped>\n",
       "    .dataframe tbody tr th:only-of-type {\n",
       "        vertical-align: middle;\n",
       "    }\n",
       "\n",
       "    .dataframe tbody tr th {\n",
       "        vertical-align: top;\n",
       "    }\n",
       "\n",
       "    .dataframe thead th {\n",
       "        text-align: right;\n",
       "    }\n",
       "</style>\n",
       "<table border=\"1\" class=\"dataframe\">\n",
       "  <thead>\n",
       "    <tr style=\"text-align: right;\">\n",
       "      <th></th>\n",
       "      <th>business_id</th>\n",
       "      <th>name</th>\n",
       "      <th>address</th>\n",
       "      <th>city</th>\n",
       "      <th>state</th>\n",
       "      <th>postal_code</th>\n",
       "      <th>latitude</th>\n",
       "      <th>longitude</th>\n",
       "      <th>stars</th>\n",
       "      <th>review_count</th>\n",
       "      <th>is_open</th>\n",
       "      <th>categories</th>\n",
       "      <th>hours</th>\n",
       "      <th>attributes_list</th>\n",
       "      <th>avg_stars</th>\n",
       "      <th>checkins</th>\n",
       "    </tr>\n",
       "  </thead>\n",
       "  <tbody>\n",
       "    <tr>\n",
       "      <th>0</th>\n",
       "      <td>xKoz9eM8hUELf5qixexeJQ</td>\n",
       "      <td>African Plum Home &amp; More</td>\n",
       "      <td>120 W Main St</td>\n",
       "      <td>Plainfield</td>\n",
       "      <td>IN</td>\n",
       "      <td>46168</td>\n",
       "      <td>39.703083</td>\n",
       "      <td>-86.402771</td>\n",
       "      <td>NaN</td>\n",
       "      <td>5</td>\n",
       "      <td>1</td>\n",
       "      <td>Home &amp; Garden, Home Decor, Furniture Stores, S...</td>\n",
       "      <td>(12:0-17:0, None, 9:0-15:0, 9:0-15:0, None, 10...</td>\n",
       "      <td></td>\n",
       "      <td>4.500000</td>\n",
       "      <td>5.0</td>\n",
       "    </tr>\n",
       "    <tr>\n",
       "      <th>1</th>\n",
       "      <td>yiE_Iym7A9wa6tyJHkWzhw</td>\n",
       "      <td>Craft Fry Wing</td>\n",
       "      <td>2224 E Fletcher Ave</td>\n",
       "      <td>Tampa</td>\n",
       "      <td>FL</td>\n",
       "      <td>33612</td>\n",
       "      <td>28.069622</td>\n",
       "      <td>-82.433075</td>\n",
       "      <td>NaN</td>\n",
       "      <td>43</td>\n",
       "      <td>1</td>\n",
       "      <td>Cheesesteaks, Bubble Tea, Food, Burgers, Chick...</td>\n",
       "      <td>(12:0-22:0, None, 11:0-22:0, 11:0-22:0, 11:0-2...</td>\n",
       "      <td>BikeParking,BusinessAcceptsCreditCards,Caters,...</td>\n",
       "      <td>4.295455</td>\n",
       "      <td>63.0</td>\n",
       "    </tr>\n",
       "    <tr>\n",
       "      <th>2</th>\n",
       "      <td>7d9X9wnm_35UcdJRJNu_Sw</td>\n",
       "      <td>China King</td>\n",
       "      <td>7811 US 31 S</td>\n",
       "      <td>Indianapolis</td>\n",
       "      <td>IN</td>\n",
       "      <td>46227</td>\n",
       "      <td>39.652946</td>\n",
       "      <td>-86.136276</td>\n",
       "      <td>NaN</td>\n",
       "      <td>22</td>\n",
       "      <td>1</td>\n",
       "      <td>Restaurants, Chinese</td>\n",
       "      <td>(11:30-22:0, 10:30-22:0, None, 10:30-22:0, 10:...</td>\n",
       "      <td>BikeParking,BusinessAcceptsCreditCards,GoodFor...</td>\n",
       "      <td>3.772727</td>\n",
       "      <td>49.0</td>\n",
       "    </tr>\n",
       "    <tr>\n",
       "      <th>3</th>\n",
       "      <td>CFPWVAFSP3Ktfe-cEXeKoA</td>\n",
       "      <td>Liberty Real Estate Associates</td>\n",
       "      <td>924 Arch St</td>\n",
       "      <td>Philadelphia</td>\n",
       "      <td>PA</td>\n",
       "      <td>19107</td>\n",
       "      <td>39.953133</td>\n",
       "      <td>-75.155746</td>\n",
       "      <td>NaN</td>\n",
       "      <td>15</td>\n",
       "      <td>1</td>\n",
       "      <td>Home Services, Real Estate Services, Real Estate</td>\n",
       "      <td>None</td>\n",
       "      <td></td>\n",
       "      <td>1.666667</td>\n",
       "      <td>NaN</td>\n",
       "    </tr>\n",
       "    <tr>\n",
       "      <th>4</th>\n",
       "      <td>EgZH_qXEQH_WJyNFgRaWDw</td>\n",
       "      <td>Jamie</td>\n",
       "      <td>4317 Harding Pike</td>\n",
       "      <td>Nashville</td>\n",
       "      <td>TN</td>\n",
       "      <td>37205</td>\n",
       "      <td>36.126026</td>\n",
       "      <td>-86.845444</td>\n",
       "      <td>NaN</td>\n",
       "      <td>6</td>\n",
       "      <td>0</td>\n",
       "      <td>Shopping, Accessories, Women's Clothing, Fashion</td>\n",
       "      <td>(None, 10:0-17:30, 10:0-19:0, 10:0-17:30, 10:0...</td>\n",
       "      <td>BusinessAcceptsCreditCards</td>\n",
       "      <td>3.000000</td>\n",
       "      <td>69.0</td>\n",
       "    </tr>\n",
       "  </tbody>\n",
       "</table>\n",
       "</div>"
      ],
      "text/plain": [
       "              business_id                            name  \\\n",
       "0  xKoz9eM8hUELf5qixexeJQ        African Plum Home & More   \n",
       "1  yiE_Iym7A9wa6tyJHkWzhw                  Craft Fry Wing   \n",
       "2  7d9X9wnm_35UcdJRJNu_Sw                      China King   \n",
       "3  CFPWVAFSP3Ktfe-cEXeKoA  Liberty Real Estate Associates   \n",
       "4  EgZH_qXEQH_WJyNFgRaWDw                           Jamie   \n",
       "\n",
       "               address          city state postal_code   latitude  longitude  \\\n",
       "0        120 W Main St    Plainfield    IN       46168  39.703083 -86.402771   \n",
       "1  2224 E Fletcher Ave         Tampa    FL       33612  28.069622 -82.433075   \n",
       "2         7811 US 31 S  Indianapolis    IN       46227  39.652946 -86.136276   \n",
       "3          924 Arch St  Philadelphia    PA       19107  39.953133 -75.155746   \n",
       "4    4317 Harding Pike     Nashville    TN       37205  36.126026 -86.845444   \n",
       "\n",
       "   stars  review_count  is_open  \\\n",
       "0    NaN             5        1   \n",
       "1    NaN            43        1   \n",
       "2    NaN            22        1   \n",
       "3    NaN            15        1   \n",
       "4    NaN             6        0   \n",
       "\n",
       "                                          categories  \\\n",
       "0  Home & Garden, Home Decor, Furniture Stores, S...   \n",
       "1  Cheesesteaks, Bubble Tea, Food, Burgers, Chick...   \n",
       "2                               Restaurants, Chinese   \n",
       "3   Home Services, Real Estate Services, Real Estate   \n",
       "4   Shopping, Accessories, Women's Clothing, Fashion   \n",
       "\n",
       "                                               hours  \\\n",
       "0  (12:0-17:0, None, 9:0-15:0, 9:0-15:0, None, 10...   \n",
       "1  (12:0-22:0, None, 11:0-22:0, 11:0-22:0, 11:0-2...   \n",
       "2  (11:30-22:0, 10:30-22:0, None, 10:30-22:0, 10:...   \n",
       "3                                               None   \n",
       "4  (None, 10:0-17:30, 10:0-19:0, 10:0-17:30, 10:0...   \n",
       "\n",
       "                                     attributes_list  avg_stars  checkins  \n",
       "0                                                      4.500000       5.0  \n",
       "1  BikeParking,BusinessAcceptsCreditCards,Caters,...   4.295455      63.0  \n",
       "2  BikeParking,BusinessAcceptsCreditCards,GoodFor...   3.772727      49.0  \n",
       "3                                                      1.666667       NaN  \n",
       "4                         BusinessAcceptsCreditCards   3.000000      69.0  "
      ]
     },
     "execution_count": 4,
     "metadata": {},
     "output_type": "execute_result"
    }
   ],
   "source": [
    "full_df = business_df.merge(business_ratings_df,how=\"left\",on=\"business_id\")\n",
    "full_df = full_df.merge(business_checkins_df,how=\"left\",on=\"business_id\")\n",
    "full_df.head()"
   ]
  },
  {
   "attachments": {},
   "cell_type": "markdown",
   "metadata": {},
   "source": [
    "## Attributes Analysis"
   ]
  },
  {
   "attachments": {},
   "cell_type": "markdown",
   "metadata": {},
   "source": [
    "Let's start with the last question first, and analyze if there's any business_attribute that contributes more to a higher rating. "
   ]
  },
  {
   "cell_type": "code",
   "execution_count": 5,
   "metadata": {},
   "outputs": [],
   "source": [
    "df_attributes = full_df.loc[:,[\"business_id\",\"attributes_list\",\"avg_stars\",\"checkins\"]]\n",
    "df_attributes = df_attributes[df_attributes[\"attributes_list\"] != \"\"]"
   ]
  },
  {
   "attachments": {},
   "cell_type": "markdown",
   "metadata": {},
   "source": [
    "After obtaining the needed columns, a pre-processing of the attributes column is needed, since it's on a string format containing all the business attributes separated by comma. To normalize this, we need first to split this string format into a list of attributes and then apply the explode operation, which creates a new dataset row for each of the list elements, resulting in a dataframe containing one attribute for a business at each row."
   ]
  },
  {
   "cell_type": "code",
   "execution_count": 6,
   "metadata": {},
   "outputs": [],
   "source": [
    "df_attributes[\"attribute\"] = df_attributes[\"attributes_list\"].apply(lambda x: str.split(x,\",\"))\n",
    "df_attributes = df_attributes.explode(\"attribute\").drop(\"attributes_list\",axis=1)"
   ]
  },
  {
   "attachments": {},
   "cell_type": "markdown",
   "metadata": {},
   "source": [
    "Then, to reach the data needed to plot, the last step is to group by the data by the attribute averaging the ratings of the business."
   ]
  },
  {
   "cell_type": "code",
   "execution_count": 7,
   "metadata": {},
   "outputs": [],
   "source": [
    "plot_data = df_attributes.drop(\"checkins\",axis=1).groupby(\"attribute\").mean(\"avg_stars\")\n",
    "plot_data = plot_data.reset_index()\n",
    "plot_data.columns =  ['Attributes','Average Ratings']\n",
    "plot_data = plot_data.sort_values('Average Ratings')"
   ]
  },
  {
   "cell_type": "code",
   "execution_count": 8,
   "metadata": {},
   "outputs": [
    {
     "data": {
      "text/plain": [
       "Text(0, 0.5, 'Attributes')"
      ]
     },
     "execution_count": 8,
     "metadata": {},
     "output_type": "execute_result"
    },
    {
     "data": {
      "image/png": "[encoded data removed]",
      "text/plain": [
       "<Figure size 640x480 with 1 Axes>"
      ]
     },
     "metadata": {},
     "output_type": "display_data"
    }
   ],
   "source": [
    "plt.barh(plot_data[\"Attributes\"],plot_data[\"Average Ratings\"])\n",
    "plt.title(\"Average Rating by Attributes\")\n",
    "plt.xlabel(\"Average Ratings\")\n",
    "plt.ylabel(\"Attributes\",)"
   ]
  },
  {
   "attachments": {},
   "cell_type": "markdown",
   "metadata": {},
   "source": [
    "Despite some attributes have a higher average rating than others, it seems that there isn't an specific attribute that leads to a considerable increase on ratings, compared to others. However, there's still some interesting insights that could be taken:\n",
    "\n",
    "- The Acceptance of Bitcoins has a Average Rating higher than the Acceptance of Credit Cards, which is quite relevant, considering the rise of cripto coins.\n",
    "- In the case of Restaurant Attributes, it's interesting to see that local attributes such as BYOB (Bring your own bottle), Table Service and By Appointment Only are higher ratings that Delivery, Drive Thru and Take Out. It's not like local services are more important, but they seem to have more room to impress and create a good customer experience worthy of a good review. In a certain way, that could also be seen as an opportunity to stand out from competitors by creating a better delivery, drive thru and takeout experiences.\n",
    "- The permission of dogs appears to be an really important topic for customers, even more important than service facilities."
   ]
  },
  {
   "attachments": {},
   "cell_type": "markdown",
   "metadata": {},
   "source": [
    "Let's check now if there's any relation between Attributes and number of checkins."
   ]
  },
  {
   "cell_type": "code",
   "execution_count": 9,
   "metadata": {},
   "outputs": [],
   "source": [
    "plot_data = df_attributes.drop(\"avg_stars\",axis=1).groupby(\"attribute\").mean(\"checkins\")\n",
    "plot_data = plot_data.reset_index()\n",
    "plot_data.columns =  ['Attributes','Average Checkins']\n",
    "plot_data = plot_data.sort_values('Average Checkins')"
   ]
  },
  {
   "cell_type": "code",
   "execution_count": 10,
   "metadata": {},
   "outputs": [
    {
     "data": {
      "text/plain": [
       "Text(0, 0.5, 'Attributes')"
      ]
     },
     "execution_count": 10,
     "metadata": {},
     "output_type": "execute_result"
    },
    {
     "data": {
      "image/png": "[encoded data removed]",
      "text/plain": [
       "<Figure size 640x480 with 1 Axes>"
      ]
     },
     "metadata": {},
     "output_type": "display_data"
    }
   ],
   "source": [
    "plt.barh(plot_data[\"Attributes\"],plot_data[\"Average Checkins\"])\n",
    "plt.title(\"Average Rating by Checkins\")\n",
    "plt.xlabel(\"Average Checkins\")\n",
    "plt.ylabel(\"Attributes\")"
   ]
  },
  {
   "attachments": {},
   "cell_type": "markdown",
   "metadata": {},
   "source": [
    "Now, in terms of checkins, a considerable difference can be found. The Restaurants with Counter Service presents, on average, a considerable higher number of Checkins. \n",
    "\n",
    "> The Counter Service is the type of model for restaurants, where customers make their orders on a Point of Sale, generally a bar or a counter, instead of sitting on a table and make orders to a waiter, which consists of the Table Service model.  \n",
    "\n",
    "As this kind of service is quite common for fast food restaurants, is quite expected for this attribute to leads to more checkins. "
   ]
  },
  {
   "attachments": {},
   "cell_type": "markdown",
   "metadata": {},
   "source": [
    "## Categories Analysis"
   ]
  },
  {
   "attachments": {},
   "cell_type": "markdown",
   "metadata": {},
   "source": [
    "To analize the Categories, let's start applying a process similar to what was done with the attributes, in a way to obtain a normalized dataset with only one category per row."
   ]
  },
  {
   "cell_type": "code",
   "execution_count": 11,
   "metadata": {},
   "outputs": [],
   "source": [
    "df_categories = full_df.loc[:,[\"business_id\",\"categories\",\"avg_stars\",\"checkins\"]]\n",
    "df_categories = df_categories[~df_categories[\"categories\"].isnull()]"
   ]
  },
  {
   "cell_type": "code",
   "execution_count": 12,
   "metadata": {},
   "outputs": [],
   "source": [
    "df_categories[\"categories\"] = df_categories[\"categories\"].apply(lambda x: x.replace(\", \", \",\")) #Normalize Separators\n",
    "df_categories[\"category\"] = df_categories[\"categories\"].apply(lambda x: str.split(x,\",\"))\n",
    "df_categories = df_categories.explode(\"category\").drop(\"categories\",axis=1)"
   ]
  },
  {
   "cell_type": "code",
   "execution_count": 13,
   "metadata": {},
   "outputs": [
    {
     "data": {
      "text/html": [
       "<div>\n",
       "<style scoped>\n",
       "    .dataframe tbody tr th:only-of-type {\n",
       "        vertical-align: middle;\n",
       "    }\n",
       "\n",
       "    .dataframe tbody tr th {\n",
       "        vertical-align: top;\n",
       "    }\n",
       "\n",
       "    .dataframe thead th {\n",
       "        text-align: right;\n",
       "    }\n",
       "</style>\n",
       "<table border=\"1\" class=\"dataframe\">\n",
       "  <thead>\n",
       "    <tr style=\"text-align: right;\">\n",
       "      <th></th>\n",
       "      <th>business_id</th>\n",
       "      <th>avg_stars</th>\n",
       "      <th>checkins</th>\n",
       "      <th>category</th>\n",
       "    </tr>\n",
       "  </thead>\n",
       "  <tbody>\n",
       "    <tr>\n",
       "      <th>0</th>\n",
       "      <td>xKoz9eM8hUELf5qixexeJQ</td>\n",
       "      <td>4.500000</td>\n",
       "      <td>5.0</td>\n",
       "      <td>Home &amp; Garden</td>\n",
       "    </tr>\n",
       "    <tr>\n",
       "      <th>0</th>\n",
       "      <td>xKoz9eM8hUELf5qixexeJQ</td>\n",
       "      <td>4.500000</td>\n",
       "      <td>5.0</td>\n",
       "      <td>Home Decor</td>\n",
       "    </tr>\n",
       "    <tr>\n",
       "      <th>0</th>\n",
       "      <td>xKoz9eM8hUELf5qixexeJQ</td>\n",
       "      <td>4.500000</td>\n",
       "      <td>5.0</td>\n",
       "      <td>Furniture Stores</td>\n",
       "    </tr>\n",
       "    <tr>\n",
       "      <th>0</th>\n",
       "      <td>xKoz9eM8hUELf5qixexeJQ</td>\n",
       "      <td>4.500000</td>\n",
       "      <td>5.0</td>\n",
       "      <td>Shopping</td>\n",
       "    </tr>\n",
       "    <tr>\n",
       "      <th>1</th>\n",
       "      <td>yiE_Iym7A9wa6tyJHkWzhw</td>\n",
       "      <td>4.295455</td>\n",
       "      <td>63.0</td>\n",
       "      <td>Cheesesteaks</td>\n",
       "    </tr>\n",
       "    <tr>\n",
       "      <th>...</th>\n",
       "      <td>...</td>\n",
       "      <td>...</td>\n",
       "      <td>...</td>\n",
       "      <td>...</td>\n",
       "    </tr>\n",
       "    <tr>\n",
       "      <th>150344</th>\n",
       "      <td>mtGm22y5c2UHNXDFAjaPNw</td>\n",
       "      <td>3.916667</td>\n",
       "      <td>25.0</td>\n",
       "      <td>Bikes</td>\n",
       "    </tr>\n",
       "    <tr>\n",
       "      <th>150345</th>\n",
       "      <td>jV_XOycEzSlTx-65W906pg</td>\n",
       "      <td>4.333333</td>\n",
       "      <td>2.0</td>\n",
       "      <td>Beauty &amp; Spas</td>\n",
       "    </tr>\n",
       "    <tr>\n",
       "      <th>150345</th>\n",
       "      <td>jV_XOycEzSlTx-65W906pg</td>\n",
       "      <td>4.333333</td>\n",
       "      <td>2.0</td>\n",
       "      <td>Permanent Makeup</td>\n",
       "    </tr>\n",
       "    <tr>\n",
       "      <th>150345</th>\n",
       "      <td>jV_XOycEzSlTx-65W906pg</td>\n",
       "      <td>4.333333</td>\n",
       "      <td>2.0</td>\n",
       "      <td>Piercing</td>\n",
       "    </tr>\n",
       "    <tr>\n",
       "      <th>150345</th>\n",
       "      <td>jV_XOycEzSlTx-65W906pg</td>\n",
       "      <td>4.333333</td>\n",
       "      <td>2.0</td>\n",
       "      <td>Tattoo</td>\n",
       "    </tr>\n",
       "  </tbody>\n",
       "</table>\n",
       "<p>668592 rows × 4 columns</p>\n",
       "</div>"
      ],
      "text/plain": [
       "                   business_id  avg_stars  checkins          category\n",
       "0       xKoz9eM8hUELf5qixexeJQ   4.500000       5.0     Home & Garden\n",
       "0       xKoz9eM8hUELf5qixexeJQ   4.500000       5.0        Home Decor\n",
       "0       xKoz9eM8hUELf5qixexeJQ   4.500000       5.0  Furniture Stores\n",
       "0       xKoz9eM8hUELf5qixexeJQ   4.500000       5.0          Shopping\n",
       "1       yiE_Iym7A9wa6tyJHkWzhw   4.295455      63.0      Cheesesteaks\n",
       "...                        ...        ...       ...               ...\n",
       "150344  mtGm22y5c2UHNXDFAjaPNw   3.916667      25.0             Bikes\n",
       "150345  jV_XOycEzSlTx-65W906pg   4.333333       2.0     Beauty & Spas\n",
       "150345  jV_XOycEzSlTx-65W906pg   4.333333       2.0  Permanent Makeup\n",
       "150345  jV_XOycEzSlTx-65W906pg   4.333333       2.0          Piercing\n",
       "150345  jV_XOycEzSlTx-65W906pg   4.333333       2.0            Tattoo\n",
       "\n",
       "[668592 rows x 4 columns]"
      ]
     },
     "execution_count": 13,
     "metadata": {},
     "output_type": "execute_result"
    }
   ],
   "source": [
    "df_categories"
   ]
  },
  {
   "attachments": {},
   "cell_type": "markdown",
   "metadata": {},
   "source": [
    "The Categories field is composed of more than a thousand different categories, which makes quite difficult to visually analize it as a whole. But since each business can have multiple categories, it's quite possible that a few generic categories could cover most of them. To try this idea, I manually selected some categories that cover at least a 1000 business. Let's filter the data and check how much business still remains on the data. "
   ]
  },
  {
   "cell_type": "code",
   "execution_count": 14,
   "metadata": {},
   "outputs": [],
   "source": [
    "business_before_filter = df_categories[\"business_id\"].nunique()"
   ]
  },
  {
   "cell_type": "code",
   "execution_count": 15,
   "metadata": {},
   "outputs": [],
   "source": [
    "selected_categories = ['Food','Shopping','Home Services','Beauty & Spas','Nightlife',\n",
    "                       'Health & Medical','Automotive','Event Planning & Services',\n",
    "                       'Hotels & Travel','Home & Garden','Fashion','Arts & Entertainment',\n",
    "                       'Pets','Fitness & Instruction','Education','Financial Services','Electronics']\n",
    "\n",
    "df_categories = df_categories[df_categories[\"category\"].isin(selected_categories)]"
   ]
  },
  {
   "cell_type": "code",
   "execution_count": 16,
   "metadata": {},
   "outputs": [
    {
     "name": "stdout",
     "output_type": "stream",
     "text": [
      "The filtered business compose 76.7% of the total number of business.\n"
     ]
    }
   ],
   "source": [
    "business_after_filter = df_categories[\"business_id\"].nunique()\n",
    "\n",
    "print(\"The filtered business compose \" + str(np.round(business_after_filter*100/business_before_filter,2)) + \"% of the total number of business.\")"
   ]
  },
  {
   "attachments": {},
   "cell_type": "markdown",
   "metadata": {},
   "source": [
    "With a reasonable sample size of business, let's now proceed to plot the data."
   ]
  },
  {
   "cell_type": "code",
   "execution_count": 17,
   "metadata": {},
   "outputs": [],
   "source": [
    "plot_data = df_categories.drop(\"checkins\",axis=1).groupby(\"category\").mean(\"avg_stars\")\n",
    "plot_data = plot_data.reset_index()\n",
    "plot_data.columns =  ['Categories','Average Ratings']\n",
    "plot_data = plot_data.sort_values('Average Ratings')"
   ]
  },
  {
   "cell_type": "code",
   "execution_count": 18,
   "metadata": {},
   "outputs": [
    {
     "data": {
      "text/plain": [
       "Text(0, 0.5, 'Categories')"
      ]
     },
     "execution_count": 18,
     "metadata": {},
     "output_type": "execute_result"
    },
    {
     "data": {
      "image/png": "[encoded data removed]",
      "text/plain": [
       "<Figure size 640x480 with 1 Axes>"
      ]
     },
     "metadata": {},
     "output_type": "display_data"
    }
   ],
   "source": [
    "plt.barh(plot_data[\"Categories\"],plot_data[\"Average Ratings\"])\n",
    "plt.title(\"Average Rating by Categories\")\n",
    "plt.xlabel(\"Average Rating\")\n",
    "plt.ylabel(\"Categories\")"
   ]
  },
  {
   "attachments": {},
   "cell_type": "markdown",
   "metadata": {},
   "source": [
    "Again, in terms of Ratings, there's no siginificant diferrence in average ratings, but a few insight's can be taken:\n",
    "\n",
    "- First, it seems that categories related to service provision domains the higher ratings more than product selling categories.\n",
    "- It's interesting to see on the top ratings categories somewhat related to self-care, such as Fitness, Beauty & Spas (and somewhat Education). Since, the results of these services are applied on the consumer itself, it feels like they can lead to more positive experiences, compared to a product selling, for example.\n",
    "- Here, similar to the attributes analysis, the Pet Category appear with high ratings. "
   ]
  },
  {
   "attachments": {},
   "cell_type": "markdown",
   "metadata": {},
   "source": [
    "Let's produce now the same analysis, but in terms of checkins."
   ]
  },
  {
   "cell_type": "code",
   "execution_count": 19,
   "metadata": {},
   "outputs": [],
   "source": [
    "plot_data = df_categories.drop(\"avg_stars\",axis=1).groupby(\"category\").mean(\"checkins\")\n",
    "plot_data = plot_data.reset_index()\n",
    "plot_data.columns =  ['Categories','Average Checkins']\n",
    "plot_data = plot_data.sort_values('Average Checkins')"
   ]
  },
  {
   "cell_type": "code",
   "execution_count": 20,
   "metadata": {},
   "outputs": [
    {
     "data": {
      "text/plain": [
       "Text(0, 0.5, 'Categories')"
      ]
     },
     "execution_count": 20,
     "metadata": {},
     "output_type": "execute_result"
    },
    {
     "data": {
      "image/png": "[encoded data removed]",
      "text/plain": [
       "<Figure size 640x480 with 1 Axes>"
      ]
     },
     "metadata": {},
     "output_type": "display_data"
    }
   ],
   "source": [
    "plt.barh(plot_data[\"Categories\"],plot_data[\"Average Checkins\"])\n",
    "plt.title(\"Average Checkins by Categories\")\n",
    "plt.xlabel(\"Average Checkins\")\n",
    "plt.ylabel(\"Categories\")"
   ]
  },
  {
   "attachments": {},
   "cell_type": "markdown",
   "metadata": {},
   "source": [
    "As for checkins, we see again some considerable differences. The pattern of results here, however, seem quite related to the user behaviours of Yelp. It's important to remember that checkins are not something mandatory for each user, making it's data suitable to bias according to users behaviour and specially business categories where checkins tend to be more used. \n",
    "\n",
    "> Which place is more likely to a Yelp user make a checkin to share his current location with friends: A night club or a car workshop? \n",
    " \n",
    "This kind of behaviour is what appears to rule the results on the plot above. Business somewhat related to leisure, such as Nightlife, Hotels and Food, seem more prone to get more checkins."
   ]
  },
  {
   "attachments": {},
   "cell_type": "markdown",
   "metadata": {},
   "source": [
    "## Spatial Analysis"
   ]
  },
  {
   "attachments": {},
   "cell_type": "markdown",
   "metadata": {},
   "source": [
    "Finally, let's head back to the first questions made involving spaciality. I purposely inverted the order, because the definition of categories done on the last step would really help here, since just plotting all business on a map doesn't bring much information, but at the same time, there were too much categories, as we saw before. For this analysis, we will further the number of categories, to facilitate the analysis, and only the above will be considered:\n",
    "\n",
    "- Food\n",
    "- Shopping\n",
    "- Beauty & Spas\n",
    "- Fitness & Instruction\n",
    "- Nightlife\n",
    "- Health & Medical\n",
    "- Automotive\n",
    "- Education\n",
    "\n",
    "This selection was only based on the potential of these analysis giving any information about the users behaviours of a certain region. For example, analyzing Hotel & Travel categories would probably only highlight more touristic locations between the cities contained on the dataset. \n",
    "\n",
    "The maps where plotted using KeplerGL, a really cool map library. Inside it, the hex plot was used, where bar plots are created over a hexagonal area, and it's height represented a configured data metric (in this case, the total number of business, average of stars and average of checkins). For the following plots, the area covered by each hexagon covers a radius of 70km, selected arbitrarily. "
   ]
  },
  {
   "cell_type": "code",
   "execution_count": 21,
   "metadata": {},
   "outputs": [],
   "source": [
    "df_space = full_df.loc[:,[\"business_id\",\"categories\",\"latitude\",\"longitude\",\"avg_stars\",\"checkins\"]]\n",
    "df_space = df_space[~df_space[\"categories\"].isnull()]"
   ]
  },
  {
   "cell_type": "code",
   "execution_count": 22,
   "metadata": {},
   "outputs": [],
   "source": [
    "df_space[\"categories\"] = df_space[\"categories\"].apply(lambda x: x.replace(\", \", \",\")) #Normalize Separators\n",
    "df_space[\"category\"] = df_space[\"categories\"].apply(lambda x: str.split(x,\",\"))\n",
    "df_space = df_space.explode(\"category\").drop(\"categories\",axis=1)"
   ]
  },
  {
   "cell_type": "code",
   "execution_count": 23,
   "metadata": {},
   "outputs": [],
   "source": [
    "selected_categories = [\"Food\",\"Shopping\",\"Beauty & Spas\",\"Fitness & Instruction\",\"Nightlife\",\"Health & Medical\",\"Automotive\",\"Education\"]\n",
    "\n",
    "df_space = df_space[df_space[\"category\"].isin(selected_categories)]"
   ]
  },
  {
   "cell_type": "code",
   "execution_count": 24,
   "metadata": {},
   "outputs": [
    {
     "data": {
      "text/html": [
       "<div>\n",
       "<style scoped>\n",
       "    .dataframe tbody tr th:only-of-type {\n",
       "        vertical-align: middle;\n",
       "    }\n",
       "\n",
       "    .dataframe tbody tr th {\n",
       "        vertical-align: top;\n",
       "    }\n",
       "\n",
       "    .dataframe thead th {\n",
       "        text-align: right;\n",
       "    }\n",
       "</style>\n",
       "<table border=\"1\" class=\"dataframe\">\n",
       "  <thead>\n",
       "    <tr style=\"text-align: right;\">\n",
       "      <th></th>\n",
       "      <th>business_id</th>\n",
       "      <th>latitude</th>\n",
       "      <th>longitude</th>\n",
       "      <th>avg_stars</th>\n",
       "      <th>checkins</th>\n",
       "      <th>category</th>\n",
       "    </tr>\n",
       "  </thead>\n",
       "  <tbody>\n",
       "    <tr>\n",
       "      <th>0</th>\n",
       "      <td>xKoz9eM8hUELf5qixexeJQ</td>\n",
       "      <td>39.703083</td>\n",
       "      <td>-86.402771</td>\n",
       "      <td>4.500000</td>\n",
       "      <td>5.0</td>\n",
       "      <td>Shopping</td>\n",
       "    </tr>\n",
       "    <tr>\n",
       "      <th>1</th>\n",
       "      <td>yiE_Iym7A9wa6tyJHkWzhw</td>\n",
       "      <td>28.069622</td>\n",
       "      <td>-82.433075</td>\n",
       "      <td>4.295455</td>\n",
       "      <td>63.0</td>\n",
       "      <td>Food</td>\n",
       "    </tr>\n",
       "    <tr>\n",
       "      <th>4</th>\n",
       "      <td>EgZH_qXEQH_WJyNFgRaWDw</td>\n",
       "      <td>36.126026</td>\n",
       "      <td>-86.845444</td>\n",
       "      <td>3.000000</td>\n",
       "      <td>69.0</td>\n",
       "      <td>Shopping</td>\n",
       "    </tr>\n",
       "    <tr>\n",
       "      <th>5</th>\n",
       "      <td>b3KxHgc7le1Mc2Q3OFsszw</td>\n",
       "      <td>53.547955</td>\n",
       "      <td>-113.535240</td>\n",
       "      <td>3.500000</td>\n",
       "      <td>2.0</td>\n",
       "      <td>Shopping</td>\n",
       "    </tr>\n",
       "    <tr>\n",
       "      <th>6</th>\n",
       "      <td>2tAi411srrpmMofeAKdACw</td>\n",
       "      <td>32.362690</td>\n",
       "      <td>-111.120750</td>\n",
       "      <td>3.401709</td>\n",
       "      <td>47.0</td>\n",
       "      <td>Food</td>\n",
       "    </tr>\n",
       "    <tr>\n",
       "      <th>...</th>\n",
       "      <td>...</td>\n",
       "      <td>...</td>\n",
       "      <td>...</td>\n",
       "      <td>...</td>\n",
       "      <td>...</td>\n",
       "      <td>...</td>\n",
       "    </tr>\n",
       "    <tr>\n",
       "      <th>150342</th>\n",
       "      <td>c8GjPIOTGVmIemT7j5_SyQ</td>\n",
       "      <td>36.115116</td>\n",
       "      <td>-86.766922</td>\n",
       "      <td>4.333333</td>\n",
       "      <td>33.0</td>\n",
       "      <td>Shopping</td>\n",
       "    </tr>\n",
       "    <tr>\n",
       "      <th>150343</th>\n",
       "      <td>_QAMST-NrQobXduilWEqSw</td>\n",
       "      <td>39.908707</td>\n",
       "      <td>-86.065086</td>\n",
       "      <td>3.500000</td>\n",
       "      <td>5.0</td>\n",
       "      <td>Shopping</td>\n",
       "    </tr>\n",
       "    <tr>\n",
       "      <th>150343</th>\n",
       "      <td>_QAMST-NrQobXduilWEqSw</td>\n",
       "      <td>39.908707</td>\n",
       "      <td>-86.065086</td>\n",
       "      <td>3.500000</td>\n",
       "      <td>5.0</td>\n",
       "      <td>Beauty &amp; Spas</td>\n",
       "    </tr>\n",
       "    <tr>\n",
       "      <th>150344</th>\n",
       "      <td>mtGm22y5c2UHNXDFAjaPNw</td>\n",
       "      <td>38.782352</td>\n",
       "      <td>-89.950562</td>\n",
       "      <td>3.916667</td>\n",
       "      <td>25.0</td>\n",
       "      <td>Shopping</td>\n",
       "    </tr>\n",
       "    <tr>\n",
       "      <th>150345</th>\n",
       "      <td>jV_XOycEzSlTx-65W906pg</td>\n",
       "      <td>27.771002</td>\n",
       "      <td>-82.394913</td>\n",
       "      <td>4.333333</td>\n",
       "      <td>2.0</td>\n",
       "      <td>Beauty &amp; Spas</td>\n",
       "    </tr>\n",
       "  </tbody>\n",
       "</table>\n",
       "<p>106641 rows × 6 columns</p>\n",
       "</div>"
      ],
      "text/plain": [
       "                   business_id   latitude   longitude  avg_stars  checkins  \\\n",
       "0       xKoz9eM8hUELf5qixexeJQ  39.703083  -86.402771   4.500000       5.0   \n",
       "1       yiE_Iym7A9wa6tyJHkWzhw  28.069622  -82.433075   4.295455      63.0   \n",
       "4       EgZH_qXEQH_WJyNFgRaWDw  36.126026  -86.845444   3.000000      69.0   \n",
       "5       b3KxHgc7le1Mc2Q3OFsszw  53.547955 -113.535240   3.500000       2.0   \n",
       "6       2tAi411srrpmMofeAKdACw  32.362690 -111.120750   3.401709      47.0   \n",
       "...                        ...        ...         ...        ...       ...   \n",
       "150342  c8GjPIOTGVmIemT7j5_SyQ  36.115116  -86.766922   4.333333      33.0   \n",
       "150343  _QAMST-NrQobXduilWEqSw  39.908707  -86.065086   3.500000       5.0   \n",
       "150343  _QAMST-NrQobXduilWEqSw  39.908707  -86.065086   3.500000       5.0   \n",
       "150344  mtGm22y5c2UHNXDFAjaPNw  38.782352  -89.950562   3.916667      25.0   \n",
       "150345  jV_XOycEzSlTx-65W906pg  27.771002  -82.394913   4.333333       2.0   \n",
       "\n",
       "             category  \n",
       "0            Shopping  \n",
       "1                Food  \n",
       "4            Shopping  \n",
       "5            Shopping  \n",
       "6                Food  \n",
       "...               ...  \n",
       "150342       Shopping  \n",
       "150343       Shopping  \n",
       "150343  Beauty & Spas  \n",
       "150344       Shopping  \n",
       "150345  Beauty & Spas  \n",
       "\n",
       "[106641 rows x 6 columns]"
      ]
     },
     "execution_count": 24,
     "metadata": {},
     "output_type": "execute_result"
    }
   ],
   "source": [
    "df_space"
   ]
  },
  {
   "attachments": {},
   "cell_type": "markdown",
   "metadata": {},
   "source": [
    "### Food Business"
   ]
  },
  {
   "attachments": {},
   "cell_type": "markdown",
   "metadata": {},
   "source": [
    "Let's start analyzing Food's Business. For this and further sections, three graphs will be presented, in this order:\n",
    "\n",
    "- Total of Business by Location\n",
    "- Average of Stars by Location\n",
    "- Average Checkins by Location"
   ]
  },
  {
   "attachments": {},
   "cell_type": "markdown",
   "metadata": {},
   "source": [
    "#### Total Business"
   ]
  },
  {
   "cell_type": "code",
   "execution_count": 25,
   "metadata": {},
   "outputs": [],
   "source": [
    "df_food = df_space[df_space[\"category\"] == \"Food\"]"
   ]
  },
  {
   "cell_type": "code",
   "execution_count": 26,
   "metadata": {},
   "outputs": [
    {
     "name": "stdout",
     "output_type": "stream",
     "text": [
      "User Guide: https://docs.kepler.gl/docs/keplergl-jupyter\n"
     ]
    },
    {
     "name": "stderr",
     "output_type": "stream",
     "text": [
      "/home/andre/.pyenv/versions/3.8.10/envs/yelp-env/lib/python3.8/site-packages/jupyter_client/session.py:719: UserWarning: Message serialization failed with:\n",
      "Out of range float values are not JSON compliant\n",
      "Supporting this message is deprecated in jupyter-client 7, please make sure your message is JSON-compliant\n",
      "  content = self.pack(content)\n"
     ]
    },
    {
     "data": {
      "application/vnd.jupyter.widget-view+json": {
       "model_id": "96ae2188809a4339ae5b8e20a7c4ce78",
       "version_major": 2,
       "version_minor": 0
      },
      "text/plain": [
       "KeplerGl(config={'version': 'v1', 'config': {'visState': {'filters': [], 'layers': [{'id': '322xd98', 'type': …"
      ]
     },
     "metadata": {},
     "output_type": "display_data"
    }
   ],
   "source": [
    "map = KeplerGl(height=500, data={'data': df_food},config=count_map)\n",
    "map"
   ]
  },
  {
   "attachments": {},
   "cell_type": "markdown",
   "metadata": {},
   "source": [
    "For total number of business, it seems like the East Coast of US have significantly more business."
   ]
  },
  {
   "attachments": {},
   "cell_type": "markdown",
   "metadata": {},
   "source": [
    "#### Stars"
   ]
  },
  {
   "cell_type": "code",
   "execution_count": 27,
   "metadata": {},
   "outputs": [
    {
     "name": "stdout",
     "output_type": "stream",
     "text": [
      "User Guide: https://docs.kepler.gl/docs/keplergl-jupyter\n"
     ]
    },
    {
     "name": "stderr",
     "output_type": "stream",
     "text": [
      "/home/andre/.pyenv/versions/3.8.10/envs/yelp-env/lib/python3.8/site-packages/jupyter_client/session.py:719: UserWarning: Message serialization failed with:\n",
      "Out of range float values are not JSON compliant\n",
      "Supporting this message is deprecated in jupyter-client 7, please make sure your message is JSON-compliant\n",
      "  content = self.pack(content)\n"
     ]
    },
    {
     "data": {
      "application/vnd.jupyter.widget-view+json": {
       "model_id": "dde842391f9641ffbea3fc624074d137",
       "version_major": 2,
       "version_minor": 0
      },
      "text/plain": [
       "KeplerGl(config={'version': 'v1', 'config': {'visState': {'filters': [], 'layers': [{'id': '322xd98', 'type': …"
      ]
     },
     "metadata": {},
     "output_type": "display_data"
    }
   ],
   "source": [
    "map = KeplerGl(height=500, data={'data': df_food},config=stars_map)\n",
    "map"
   ]
  },
  {
   "attachments": {},
   "cell_type": "markdown",
   "metadata": {},
   "source": [
    "For Stars, the West coast business presents higher averages."
   ]
  },
  {
   "attachments": {},
   "cell_type": "markdown",
   "metadata": {},
   "source": [
    "#### Checkins"
   ]
  },
  {
   "cell_type": "code",
   "execution_count": 28,
   "metadata": {},
   "outputs": [
    {
     "name": "stdout",
     "output_type": "stream",
     "text": [
      "User Guide: https://docs.kepler.gl/docs/keplergl-jupyter\n"
     ]
    },
    {
     "name": "stderr",
     "output_type": "stream",
     "text": [
      "/home/andre/.pyenv/versions/3.8.10/envs/yelp-env/lib/python3.8/site-packages/jupyter_client/session.py:719: UserWarning: Message serialization failed with:\n",
      "Out of range float values are not JSON compliant\n",
      "Supporting this message is deprecated in jupyter-client 7, please make sure your message is JSON-compliant\n",
      "  content = self.pack(content)\n"
     ]
    },
    {
     "data": {
      "application/vnd.jupyter.widget-view+json": {
       "model_id": "d7e36cacc270419b94ec2c1cc5bf12e7",
       "version_major": 2,
       "version_minor": 0
      },
      "text/plain": [
       "KeplerGl(config={'version': 'v1', 'config': {'visState': {'filters': [], 'layers': [{'id': '322xd98', 'type': …"
      ]
     },
     "metadata": {},
     "output_type": "display_data"
    }
   ],
   "source": [
    "map = KeplerGl(height=500, data={'data': df_food},config=checkins_map)\n",
    "map"
   ]
  },
  {
   "attachments": {},
   "cell_type": "markdown",
   "metadata": {},
   "source": [
    "Checkins are somewhat more distributed, but with Los Angeles and San Francisco with the highest througout the data."
   ]
  },
  {
   "attachments": {},
   "cell_type": "markdown",
   "metadata": {},
   "source": [
    "### Shopping"
   ]
  },
  {
   "cell_type": "code",
   "execution_count": 29,
   "metadata": {},
   "outputs": [],
   "source": [
    "df_shopping = df_space[df_space[\"category\"] == \"Shopping\"]"
   ]
  },
  {
   "attachments": {},
   "cell_type": "markdown",
   "metadata": {},
   "source": [
    "#### Total Business"
   ]
  },
  {
   "cell_type": "code",
   "execution_count": 30,
   "metadata": {},
   "outputs": [
    {
     "name": "stdout",
     "output_type": "stream",
     "text": [
      "User Guide: https://docs.kepler.gl/docs/keplergl-jupyter\n"
     ]
    },
    {
     "name": "stderr",
     "output_type": "stream",
     "text": [
      "/home/andre/.pyenv/versions/3.8.10/envs/yelp-env/lib/python3.8/site-packages/jupyter_client/session.py:719: UserWarning: Message serialization failed with:\n",
      "Out of range float values are not JSON compliant\n",
      "Supporting this message is deprecated in jupyter-client 7, please make sure your message is JSON-compliant\n",
      "  content = self.pack(content)\n"
     ]
    },
    {
     "data": {
      "application/vnd.jupyter.widget-view+json": {
       "model_id": "21a88f9e7ec94f52b89df5a9d9180662",
       "version_major": 2,
       "version_minor": 0
      },
      "text/plain": [
       "KeplerGl(config={'version': 'v1', 'config': {'visState': {'filters': [], 'layers': [{'id': '322xd98', 'type': …"
      ]
     },
     "metadata": {},
     "output_type": "display_data"
    }
   ],
   "source": [
    "map = KeplerGl(height=500, data={'data': df_shopping},config=count_map)\n",
    "map"
   ]
  },
  {
   "attachments": {},
   "cell_type": "markdown",
   "metadata": {},
   "source": [
    "For shopping business, the East coast seems to have more business, specially with NYC and Tampa."
   ]
  },
  {
   "attachments": {},
   "cell_type": "markdown",
   "metadata": {},
   "source": [
    "#### Stars"
   ]
  },
  {
   "cell_type": "code",
   "execution_count": 31,
   "metadata": {},
   "outputs": [
    {
     "name": "stdout",
     "output_type": "stream",
     "text": [
      "User Guide: https://docs.kepler.gl/docs/keplergl-jupyter\n"
     ]
    },
    {
     "name": "stderr",
     "output_type": "stream",
     "text": [
      "/home/andre/.pyenv/versions/3.8.10/envs/yelp-env/lib/python3.8/site-packages/jupyter_client/session.py:719: UserWarning: Message serialization failed with:\n",
      "Out of range float values are not JSON compliant\n",
      "Supporting this message is deprecated in jupyter-client 7, please make sure your message is JSON-compliant\n",
      "  content = self.pack(content)\n"
     ]
    },
    {
     "data": {
      "application/vnd.jupyter.widget-view+json": {
       "model_id": "ae17c741605b4bd998f7ddb53223eefc",
       "version_major": 2,
       "version_minor": 0
      },
      "text/plain": [
       "KeplerGl(config={'version': 'v1', 'config': {'visState': {'filters': [], 'layers': [{'id': '322xd98', 'type': …"
      ]
     },
     "metadata": {},
     "output_type": "display_data"
    }
   ],
   "source": [
    "map = KeplerGl(height=500, data={'data': df_shopping},config=stars_map)\n",
    "map"
   ]
  },
  {
   "attachments": {},
   "cell_type": "markdown",
   "metadata": {},
   "source": [
    "For stars, we see a more distributed result, with slightly higher averages on West Coast."
   ]
  },
  {
   "attachments": {},
   "cell_type": "markdown",
   "metadata": {},
   "source": [
    "#### Checkins"
   ]
  },
  {
   "cell_type": "code",
   "execution_count": 32,
   "metadata": {},
   "outputs": [
    {
     "name": "stdout",
     "output_type": "stream",
     "text": [
      "User Guide: https://docs.kepler.gl/docs/keplergl-jupyter\n"
     ]
    },
    {
     "name": "stderr",
     "output_type": "stream",
     "text": [
      "/home/andre/.pyenv/versions/3.8.10/envs/yelp-env/lib/python3.8/site-packages/jupyter_client/session.py:719: UserWarning: Message serialization failed with:\n",
      "Out of range float values are not JSON compliant\n",
      "Supporting this message is deprecated in jupyter-client 7, please make sure your message is JSON-compliant\n",
      "  content = self.pack(content)\n"
     ]
    },
    {
     "data": {
      "application/vnd.jupyter.widget-view+json": {
       "model_id": "24a0beab7b7345889366e959d7c34397",
       "version_major": 2,
       "version_minor": 0
      },
      "text/plain": [
       "KeplerGl(config={'version': 'v1', 'config': {'visState': {'filters': [], 'layers': [{'id': '322xd98', 'type': …"
      ]
     },
     "metadata": {},
     "output_type": "display_data"
    }
   ],
   "source": [
    "map = KeplerGl(height=500, data={'data': df_shopping},config=checkins_map)\n",
    "map"
   ]
  },
  {
   "attachments": {},
   "cell_type": "markdown",
   "metadata": {},
   "source": [
    "For checkins, the East Coast have a considerable edge."
   ]
  },
  {
   "attachments": {},
   "cell_type": "markdown",
   "metadata": {},
   "source": [
    "### Beauty & Spas"
   ]
  },
  {
   "cell_type": "code",
   "execution_count": 33,
   "metadata": {},
   "outputs": [],
   "source": [
    "df_beauty = df_space[df_space[\"category\"] == \"Beauty & Spas\"]"
   ]
  },
  {
   "attachments": {},
   "cell_type": "markdown",
   "metadata": {},
   "source": [
    "#### Total of Business"
   ]
  },
  {
   "cell_type": "code",
   "execution_count": 34,
   "metadata": {},
   "outputs": [
    {
     "name": "stdout",
     "output_type": "stream",
     "text": [
      "User Guide: https://docs.kepler.gl/docs/keplergl-jupyter\n"
     ]
    },
    {
     "name": "stderr",
     "output_type": "stream",
     "text": [
      "/home/andre/.pyenv/versions/3.8.10/envs/yelp-env/lib/python3.8/site-packages/jupyter_client/session.py:719: UserWarning: Message serialization failed with:\n",
      "Out of range float values are not JSON compliant\n",
      "Supporting this message is deprecated in jupyter-client 7, please make sure your message is JSON-compliant\n",
      "  content = self.pack(content)\n"
     ]
    },
    {
     "data": {
      "application/vnd.jupyter.widget-view+json": {
       "model_id": "3d5105eaf16a48cd874bbd875a7fb605",
       "version_major": 2,
       "version_minor": 0
      },
      "text/plain": [
       "KeplerGl(config={'version': 'v1', 'config': {'visState': {'filters': [], 'layers': [{'id': '322xd98', 'type': …"
      ]
     },
     "metadata": {},
     "output_type": "display_data"
    }
   ],
   "source": [
    "map = KeplerGl(height=500, data={'data': df_beauty},config=count_map)\n",
    "map"
   ]
  },
  {
   "attachments": {},
   "cell_type": "markdown",
   "metadata": {},
   "source": [
    "For Beauty and Spas, we see a predominance of business on the East Coast."
   ]
  },
  {
   "attachments": {},
   "cell_type": "markdown",
   "metadata": {},
   "source": [
    "#### Stars"
   ]
  },
  {
   "cell_type": "code",
   "execution_count": 35,
   "metadata": {},
   "outputs": [
    {
     "name": "stdout",
     "output_type": "stream",
     "text": [
      "User Guide: https://docs.kepler.gl/docs/keplergl-jupyter\n"
     ]
    },
    {
     "name": "stderr",
     "output_type": "stream",
     "text": [
      "/home/andre/.pyenv/versions/3.8.10/envs/yelp-env/lib/python3.8/site-packages/jupyter_client/session.py:719: UserWarning: Message serialization failed with:\n",
      "Out of range float values are not JSON compliant\n",
      "Supporting this message is deprecated in jupyter-client 7, please make sure your message is JSON-compliant\n",
      "  content = self.pack(content)\n"
     ]
    },
    {
     "data": {
      "application/vnd.jupyter.widget-view+json": {
       "model_id": "e67c47dfe89843069c825784742bb481",
       "version_major": 2,
       "version_minor": 0
      },
      "text/plain": [
       "KeplerGl(config={'version': 'v1', 'config': {'visState': {'filters': [], 'layers': [{'id': '322xd98', 'type': …"
      ]
     },
     "metadata": {},
     "output_type": "display_data"
    }
   ],
   "source": [
    "map = KeplerGl(height=500, data={'data': df_beauty},config=stars_map)\n",
    "map"
   ]
  },
  {
   "attachments": {},
   "cell_type": "markdown",
   "metadata": {},
   "source": [
    "For Stars, there's a considerable advantage on the West Coast."
   ]
  },
  {
   "attachments": {},
   "cell_type": "markdown",
   "metadata": {},
   "source": [
    "#### Checkins"
   ]
  },
  {
   "cell_type": "code",
   "execution_count": 36,
   "metadata": {},
   "outputs": [
    {
     "name": "stdout",
     "output_type": "stream",
     "text": [
      "User Guide: https://docs.kepler.gl/docs/keplergl-jupyter\n"
     ]
    },
    {
     "name": "stderr",
     "output_type": "stream",
     "text": [
      "/home/andre/.pyenv/versions/3.8.10/envs/yelp-env/lib/python3.8/site-packages/jupyter_client/session.py:719: UserWarning: Message serialization failed with:\n",
      "Out of range float values are not JSON compliant\n",
      "Supporting this message is deprecated in jupyter-client 7, please make sure your message is JSON-compliant\n",
      "  content = self.pack(content)\n"
     ]
    },
    {
     "data": {
      "application/vnd.jupyter.widget-view+json": {
       "model_id": "afd12879310747ecb84d1c68e0841313",
       "version_major": 2,
       "version_minor": 0
      },
      "text/plain": [
       "KeplerGl(config={'version': 'v1', 'config': {'visState': {'filters': [], 'layers': [{'id': '322xd98', 'type': …"
      ]
     },
     "metadata": {},
     "output_type": "display_data"
    }
   ],
   "source": [
    "map = KeplerGl(height=500, data={'data': df_beauty},config=checkins_map)\n",
    "map"
   ]
  },
  {
   "attachments": {},
   "cell_type": "markdown",
   "metadata": {},
   "source": [
    "Here, for checkins, we see a slight edge for the West Coast."
   ]
  },
  {
   "attachments": {},
   "cell_type": "markdown",
   "metadata": {},
   "source": [
    "### Fitness & Instruction"
   ]
  },
  {
   "cell_type": "code",
   "execution_count": 37,
   "metadata": {},
   "outputs": [],
   "source": [
    "df_fit = df_space[df_space[\"category\"] == \"Fitness & Instruction\"]"
   ]
  },
  {
   "attachments": {},
   "cell_type": "markdown",
   "metadata": {},
   "source": [
    "#### Total of Business"
   ]
  },
  {
   "cell_type": "code",
   "execution_count": 38,
   "metadata": {},
   "outputs": [
    {
     "name": "stdout",
     "output_type": "stream",
     "text": [
      "User Guide: https://docs.kepler.gl/docs/keplergl-jupyter\n"
     ]
    },
    {
     "name": "stderr",
     "output_type": "stream",
     "text": [
      "/home/andre/.pyenv/versions/3.8.10/envs/yelp-env/lib/python3.8/site-packages/jupyter_client/session.py:719: UserWarning: Message serialization failed with:\n",
      "Out of range float values are not JSON compliant\n",
      "Supporting this message is deprecated in jupyter-client 7, please make sure your message is JSON-compliant\n",
      "  content = self.pack(content)\n"
     ]
    },
    {
     "data": {
      "application/vnd.jupyter.widget-view+json": {
       "model_id": "5c1700029ba34d858edd6705c7162591",
       "version_major": 2,
       "version_minor": 0
      },
      "text/plain": [
       "KeplerGl(config={'version': 'v1', 'config': {'visState': {'filters': [], 'layers': [{'id': '322xd98', 'type': …"
      ]
     },
     "metadata": {},
     "output_type": "display_data"
    }
   ],
   "source": [
    "map = KeplerGl(height=500, data={'data': df_fit},config=count_map)\n",
    "map"
   ]
  },
  {
   "attachments": {},
   "cell_type": "markdown",
   "metadata": {},
   "source": [
    "For Fitness Business, we see a pattern of more business on the East coast."
   ]
  },
  {
   "attachments": {},
   "cell_type": "markdown",
   "metadata": {},
   "source": [
    "#### Stars"
   ]
  },
  {
   "cell_type": "code",
   "execution_count": 39,
   "metadata": {},
   "outputs": [
    {
     "name": "stdout",
     "output_type": "stream",
     "text": [
      "User Guide: https://docs.kepler.gl/docs/keplergl-jupyter\n"
     ]
    },
    {
     "name": "stderr",
     "output_type": "stream",
     "text": [
      "/home/andre/.pyenv/versions/3.8.10/envs/yelp-env/lib/python3.8/site-packages/jupyter_client/session.py:719: UserWarning: Message serialization failed with:\n",
      "Out of range float values are not JSON compliant\n",
      "Supporting this message is deprecated in jupyter-client 7, please make sure your message is JSON-compliant\n",
      "  content = self.pack(content)\n"
     ]
    },
    {
     "data": {
      "application/vnd.jupyter.widget-view+json": {
       "model_id": "d0d20f69d6aa4b0caffa81438e58f41c",
       "version_major": 2,
       "version_minor": 0
      },
      "text/plain": [
       "KeplerGl(config={'version': 'v1', 'config': {'visState': {'filters': [], 'layers': [{'id': '322xd98', 'type': …"
      ]
     },
     "metadata": {},
     "output_type": "display_data"
    }
   ],
   "source": [
    "map = KeplerGl(height=500, data={'data': df_fit},config=stars_map)\n",
    "map"
   ]
  },
  {
   "attachments": {},
   "cell_type": "markdown",
   "metadata": {},
   "source": [
    "For stars, we have a more distributed pattern, with high averages both on East and West."
   ]
  },
  {
   "attachments": {},
   "cell_type": "markdown",
   "metadata": {},
   "source": [
    "#### Checkins"
   ]
  },
  {
   "cell_type": "code",
   "execution_count": 40,
   "metadata": {},
   "outputs": [
    {
     "name": "stdout",
     "output_type": "stream",
     "text": [
      "User Guide: https://docs.kepler.gl/docs/keplergl-jupyter\n"
     ]
    },
    {
     "name": "stderr",
     "output_type": "stream",
     "text": [
      "/home/andre/.pyenv/versions/3.8.10/envs/yelp-env/lib/python3.8/site-packages/jupyter_client/session.py:719: UserWarning: Message serialization failed with:\n",
      "Out of range float values are not JSON compliant\n",
      "Supporting this message is deprecated in jupyter-client 7, please make sure your message is JSON-compliant\n",
      "  content = self.pack(content)\n"
     ]
    },
    {
     "data": {
      "application/vnd.jupyter.widget-view+json": {
       "model_id": "4c8414276a33424eaa6a77b9f00bbaba",
       "version_major": 2,
       "version_minor": 0
      },
      "text/plain": [
       "KeplerGl(config={'version': 'v1', 'config': {'visState': {'filters': [], 'layers': [{'id': '322xd98', 'type': …"
      ]
     },
     "metadata": {},
     "output_type": "display_data"
    }
   ],
   "source": [
    "map = KeplerGl(height=500, data={'data': df_fit},config=checkins_map)\n",
    "map"
   ]
  },
  {
   "attachments": {},
   "cell_type": "markdown",
   "metadata": {},
   "source": [
    "For checkins, however, there's a large advantage on the East Coast."
   ]
  },
  {
   "attachments": {},
   "cell_type": "markdown",
   "metadata": {},
   "source": [
    "### Nightlife"
   ]
  },
  {
   "cell_type": "code",
   "execution_count": 41,
   "metadata": {},
   "outputs": [],
   "source": [
    "df_night = df_space[df_space[\"category\"] == \"Nightlife\"]"
   ]
  },
  {
   "attachments": {},
   "cell_type": "markdown",
   "metadata": {},
   "source": [
    "#### Total of Business"
   ]
  },
  {
   "cell_type": "code",
   "execution_count": 42,
   "metadata": {},
   "outputs": [
    {
     "name": "stdout",
     "output_type": "stream",
     "text": [
      "User Guide: https://docs.kepler.gl/docs/keplergl-jupyter\n"
     ]
    },
    {
     "name": "stderr",
     "output_type": "stream",
     "text": [
      "/home/andre/.pyenv/versions/3.8.10/envs/yelp-env/lib/python3.8/site-packages/jupyter_client/session.py:719: UserWarning: Message serialization failed with:\n",
      "Out of range float values are not JSON compliant\n",
      "Supporting this message is deprecated in jupyter-client 7, please make sure your message is JSON-compliant\n",
      "  content = self.pack(content)\n"
     ]
    },
    {
     "data": {
      "application/vnd.jupyter.widget-view+json": {
       "model_id": "eb9e6aecb87b4274b886ca6f56cf2dab",
       "version_major": 2,
       "version_minor": 0
      },
      "text/plain": [
       "KeplerGl(config={'version': 'v1', 'config': {'visState': {'filters': [], 'layers': [{'id': '322xd98', 'type': …"
      ]
     },
     "metadata": {},
     "output_type": "display_data"
    }
   ],
   "source": [
    "map = KeplerGl(height=500, data={'data': df_night},config=count_map)\n",
    "map"
   ]
  },
  {
   "attachments": {},
   "cell_type": "markdown",
   "metadata": {},
   "source": [
    "For Nightlife Business, the East Coast presents more business in number."
   ]
  },
  {
   "attachments": {},
   "cell_type": "markdown",
   "metadata": {},
   "source": [
    "#### Stars"
   ]
  },
  {
   "cell_type": "code",
   "execution_count": 43,
   "metadata": {},
   "outputs": [
    {
     "name": "stdout",
     "output_type": "stream",
     "text": [
      "User Guide: https://docs.kepler.gl/docs/keplergl-jupyter\n"
     ]
    },
    {
     "name": "stderr",
     "output_type": "stream",
     "text": [
      "/home/andre/.pyenv/versions/3.8.10/envs/yelp-env/lib/python3.8/site-packages/jupyter_client/session.py:719: UserWarning: Message serialization failed with:\n",
      "Out of range float values are not JSON compliant\n",
      "Supporting this message is deprecated in jupyter-client 7, please make sure your message is JSON-compliant\n",
      "  content = self.pack(content)\n"
     ]
    },
    {
     "data": {
      "application/vnd.jupyter.widget-view+json": {
       "model_id": "06e99be9b5a141d8b095595b717f5f77",
       "version_major": 2,
       "version_minor": 0
      },
      "text/plain": [
       "KeplerGl(config={'version': 'v1', 'config': {'visState': {'filters': [], 'layers': [{'id': '322xd98', 'type': …"
      ]
     },
     "metadata": {},
     "output_type": "display_data"
    }
   ],
   "source": [
    "map = KeplerGl(height=500, data={'data': df_night},config=stars_map)\n",
    "map"
   ]
  },
  {
   "attachments": {},
   "cell_type": "markdown",
   "metadata": {},
   "source": [
    "For Stars, we see a predominance on the West Coast of higher ratings."
   ]
  },
  {
   "attachments": {},
   "cell_type": "markdown",
   "metadata": {},
   "source": [
    "#### Checkins"
   ]
  },
  {
   "cell_type": "code",
   "execution_count": 44,
   "metadata": {},
   "outputs": [
    {
     "name": "stdout",
     "output_type": "stream",
     "text": [
      "User Guide: https://docs.kepler.gl/docs/keplergl-jupyter\n"
     ]
    },
    {
     "name": "stderr",
     "output_type": "stream",
     "text": [
      "/home/andre/.pyenv/versions/3.8.10/envs/yelp-env/lib/python3.8/site-packages/jupyter_client/session.py:719: UserWarning: Message serialization failed with:\n",
      "Out of range float values are not JSON compliant\n",
      "Supporting this message is deprecated in jupyter-client 7, please make sure your message is JSON-compliant\n",
      "  content = self.pack(content)\n"
     ]
    },
    {
     "data": {
      "application/vnd.jupyter.widget-view+json": {
       "model_id": "a928fee8a7234af682cd1931d28d2226",
       "version_major": 2,
       "version_minor": 0
      },
      "text/plain": [
       "KeplerGl(config={'version': 'v1', 'config': {'visState': {'filters': [], 'layers': [{'id': '322xd98', 'type': …"
      ]
     },
     "metadata": {},
     "output_type": "display_data"
    }
   ],
   "source": [
    "map = KeplerGl(height=500, data={'data': df_night},config=checkins_map)\n",
    "map"
   ]
  },
  {
   "attachments": {},
   "cell_type": "markdown",
   "metadata": {},
   "source": [
    "For Checkins, there's a more distributed pattern."
   ]
  },
  {
   "attachments": {},
   "cell_type": "markdown",
   "metadata": {},
   "source": [
    "### Health & Medical"
   ]
  },
  {
   "cell_type": "code",
   "execution_count": 45,
   "metadata": {},
   "outputs": [],
   "source": [
    "df_health = df_space[df_space[\"category\"] == \"Health & Medical\"]"
   ]
  },
  {
   "attachments": {},
   "cell_type": "markdown",
   "metadata": {},
   "source": [
    "#### Total of Business"
   ]
  },
  {
   "cell_type": "code",
   "execution_count": 46,
   "metadata": {},
   "outputs": [
    {
     "name": "stdout",
     "output_type": "stream",
     "text": [
      "User Guide: https://docs.kepler.gl/docs/keplergl-jupyter\n"
     ]
    },
    {
     "name": "stderr",
     "output_type": "stream",
     "text": [
      "/home/andre/.pyenv/versions/3.8.10/envs/yelp-env/lib/python3.8/site-packages/jupyter_client/session.py:719: UserWarning: Message serialization failed with:\n",
      "Out of range float values are not JSON compliant\n",
      "Supporting this message is deprecated in jupyter-client 7, please make sure your message is JSON-compliant\n",
      "  content = self.pack(content)\n"
     ]
    },
    {
     "data": {
      "application/vnd.jupyter.widget-view+json": {
       "model_id": "24376e44247f4c11bd553cd147294dd8",
       "version_major": 2,
       "version_minor": 0
      },
      "text/plain": [
       "KeplerGl(config={'version': 'v1', 'config': {'visState': {'filters': [], 'layers': [{'id': '322xd98', 'type': …"
      ]
     },
     "metadata": {},
     "output_type": "display_data"
    }
   ],
   "source": [
    "map = KeplerGl(height=500, data={'data': df_health},config=count_map)\n",
    "map"
   ]
  },
  {
   "attachments": {},
   "cell_type": "markdown",
   "metadata": {},
   "source": [
    "We see here a higher concentration of Health business on the East Coast. With this category, however, the difference is quite high compared to other categories."
   ]
  },
  {
   "attachments": {},
   "cell_type": "markdown",
   "metadata": {},
   "source": [
    "#### Stars"
   ]
  },
  {
   "cell_type": "code",
   "execution_count": 47,
   "metadata": {},
   "outputs": [
    {
     "name": "stdout",
     "output_type": "stream",
     "text": [
      "User Guide: https://docs.kepler.gl/docs/keplergl-jupyter\n"
     ]
    },
    {
     "name": "stderr",
     "output_type": "stream",
     "text": [
      "/home/andre/.pyenv/versions/3.8.10/envs/yelp-env/lib/python3.8/site-packages/jupyter_client/session.py:719: UserWarning: Message serialization failed with:\n",
      "Out of range float values are not JSON compliant\n",
      "Supporting this message is deprecated in jupyter-client 7, please make sure your message is JSON-compliant\n",
      "  content = self.pack(content)\n"
     ]
    },
    {
     "data": {
      "application/vnd.jupyter.widget-view+json": {
       "model_id": "d0ac75fefaef494bbb62e1502f4b0ebe",
       "version_major": 2,
       "version_minor": 0
      },
      "text/plain": [
       "KeplerGl(config={'version': 'v1', 'config': {'visState': {'filters': [], 'layers': [{'id': '322xd98', 'type': …"
      ]
     },
     "metadata": {},
     "output_type": "display_data"
    }
   ],
   "source": [
    "map = KeplerGl(height=500, data={'data': df_health},config=stars_map)\n",
    "map"
   ]
  },
  {
   "attachments": {},
   "cell_type": "markdown",
   "metadata": {},
   "source": [
    "For Stars, the West coast again presents higher values, but not so much compared to the East Coast."
   ]
  },
  {
   "attachments": {},
   "cell_type": "markdown",
   "metadata": {},
   "source": [
    "#### Checkins"
   ]
  },
  {
   "cell_type": "code",
   "execution_count": 48,
   "metadata": {},
   "outputs": [
    {
     "name": "stdout",
     "output_type": "stream",
     "text": [
      "User Guide: https://docs.kepler.gl/docs/keplergl-jupyter\n"
     ]
    },
    {
     "name": "stderr",
     "output_type": "stream",
     "text": [
      "/home/andre/.pyenv/versions/3.8.10/envs/yelp-env/lib/python3.8/site-packages/jupyter_client/session.py:719: UserWarning: Message serialization failed with:\n",
      "Out of range float values are not JSON compliant\n",
      "Supporting this message is deprecated in jupyter-client 7, please make sure your message is JSON-compliant\n",
      "  content = self.pack(content)\n"
     ]
    },
    {
     "data": {
      "application/vnd.jupyter.widget-view+json": {
       "model_id": "3b91a8aaa41749e1a3513c84888cd384",
       "version_major": 2,
       "version_minor": 0
      },
      "text/plain": [
       "KeplerGl(config={'version': 'v1', 'config': {'visState': {'filters': [], 'layers': [{'id': '322xd98', 'type': …"
      ]
     },
     "metadata": {},
     "output_type": "display_data"
    }
   ],
   "source": [
    "map = KeplerGl(height=500, data={'data': df_health},config=checkins_map)\n",
    "map"
   ]
  },
  {
   "attachments": {},
   "cell_type": "markdown",
   "metadata": {},
   "source": [
    "The Checkins, however, are considerable higher on the East Coast. Considering that for the other categories, the Checkins are generally higher on the West Coast, this pattern can be a strong indicative of a higher usage of this kind of service on this area."
   ]
  },
  {
   "attachments": {},
   "cell_type": "markdown",
   "metadata": {},
   "source": [
    "### Automotive"
   ]
  },
  {
   "cell_type": "code",
   "execution_count": 49,
   "metadata": {},
   "outputs": [],
   "source": [
    "df_auto = df_space[df_space[\"category\"] == \"Automotive\"]"
   ]
  },
  {
   "attachments": {},
   "cell_type": "markdown",
   "metadata": {},
   "source": [
    "#### Total of Business"
   ]
  },
  {
   "cell_type": "code",
   "execution_count": 50,
   "metadata": {},
   "outputs": [
    {
     "name": "stdout",
     "output_type": "stream",
     "text": [
      "User Guide: https://docs.kepler.gl/docs/keplergl-jupyter\n"
     ]
    },
    {
     "name": "stderr",
     "output_type": "stream",
     "text": [
      "/home/andre/.pyenv/versions/3.8.10/envs/yelp-env/lib/python3.8/site-packages/jupyter_client/session.py:719: UserWarning: Message serialization failed with:\n",
      "Out of range float values are not JSON compliant\n",
      "Supporting this message is deprecated in jupyter-client 7, please make sure your message is JSON-compliant\n",
      "  content = self.pack(content)\n"
     ]
    },
    {
     "data": {
      "application/vnd.jupyter.widget-view+json": {
       "model_id": "b00b2d29b39548b78bc6e87a7990b043",
       "version_major": 2,
       "version_minor": 0
      },
      "text/plain": [
       "KeplerGl(config={'version': 'v1', 'config': {'visState': {'filters': [], 'layers': [{'id': '322xd98', 'type': …"
      ]
     },
     "metadata": {},
     "output_type": "display_data"
    }
   ],
   "source": [
    "map = KeplerGl(height=500, data={'data': df_auto},config=count_map)\n",
    "map"
   ]
  },
  {
   "attachments": {},
   "cell_type": "markdown",
   "metadata": {},
   "source": [
    "The predominance of Business on the East pattern is seen again here for Automotive Business."
   ]
  },
  {
   "attachments": {},
   "cell_type": "markdown",
   "metadata": {},
   "source": [
    "#### Stars"
   ]
  },
  {
   "cell_type": "code",
   "execution_count": 51,
   "metadata": {},
   "outputs": [
    {
     "name": "stdout",
     "output_type": "stream",
     "text": [
      "User Guide: https://docs.kepler.gl/docs/keplergl-jupyter\n"
     ]
    },
    {
     "name": "stderr",
     "output_type": "stream",
     "text": [
      "/home/andre/.pyenv/versions/3.8.10/envs/yelp-env/lib/python3.8/site-packages/jupyter_client/session.py:719: UserWarning: Message serialization failed with:\n",
      "Out of range float values are not JSON compliant\n",
      "Supporting this message is deprecated in jupyter-client 7, please make sure your message is JSON-compliant\n",
      "  content = self.pack(content)\n"
     ]
    },
    {
     "data": {
      "application/vnd.jupyter.widget-view+json": {
       "model_id": "c8e89e84456f478391271e5010b5fc83",
       "version_major": 2,
       "version_minor": 0
      },
      "text/plain": [
       "KeplerGl(config={'version': 'v1', 'config': {'visState': {'filters': [], 'layers': [{'id': '322xd98', 'type': …"
      ]
     },
     "metadata": {},
     "output_type": "display_data"
    }
   ],
   "source": [
    "map = KeplerGl(height=500, data={'data': df_auto},config=stars_map)\n",
    "map"
   ]
  },
  {
   "attachments": {},
   "cell_type": "markdown",
   "metadata": {},
   "source": [
    "For stars, we see an overall predominance on the West Coast, with Boston as an outlier on the East Coast."
   ]
  },
  {
   "attachments": {},
   "cell_type": "markdown",
   "metadata": {},
   "source": [
    "#### Checkins"
   ]
  },
  {
   "cell_type": "code",
   "execution_count": 52,
   "metadata": {},
   "outputs": [
    {
     "name": "stdout",
     "output_type": "stream",
     "text": [
      "User Guide: https://docs.kepler.gl/docs/keplergl-jupyter\n"
     ]
    },
    {
     "name": "stderr",
     "output_type": "stream",
     "text": [
      "/home/andre/.pyenv/versions/3.8.10/envs/yelp-env/lib/python3.8/site-packages/jupyter_client/session.py:719: UserWarning: Message serialization failed with:\n",
      "Out of range float values are not JSON compliant\n",
      "Supporting this message is deprecated in jupyter-client 7, please make sure your message is JSON-compliant\n",
      "  content = self.pack(content)\n"
     ]
    },
    {
     "data": {
      "application/vnd.jupyter.widget-view+json": {
       "model_id": "3073b43bcdfd4f1c8f91935446a953b4",
       "version_major": 2,
       "version_minor": 0
      },
      "text/plain": [
       "KeplerGl(config={'version': 'v1', 'config': {'visState': {'filters': [], 'layers': [{'id': '322xd98', 'type': …"
      ]
     },
     "metadata": {},
     "output_type": "display_data"
    }
   ],
   "source": [
    "map = KeplerGl(height=500, data={'data': df_auto},config=checkins_map)\n",
    "map"
   ]
  },
  {
   "attachments": {},
   "cell_type": "markdown",
   "metadata": {},
   "source": [
    "For checkins, the predominance is on the East Side, as opposed to the general behaviour as seen on other categories."
   ]
  },
  {
   "attachments": {},
   "cell_type": "markdown",
   "metadata": {},
   "source": [
    "### Education"
   ]
  },
  {
   "cell_type": "code",
   "execution_count": 53,
   "metadata": {},
   "outputs": [],
   "source": [
    "df_edu = df_space[df_space[\"category\"] == \"Education\"]"
   ]
  },
  {
   "attachments": {},
   "cell_type": "markdown",
   "metadata": {},
   "source": [
    "#### Total of Business"
   ]
  },
  {
   "cell_type": "code",
   "execution_count": 54,
   "metadata": {},
   "outputs": [
    {
     "name": "stdout",
     "output_type": "stream",
     "text": [
      "User Guide: https://docs.kepler.gl/docs/keplergl-jupyter\n"
     ]
    },
    {
     "name": "stderr",
     "output_type": "stream",
     "text": [
      "/home/andre/.pyenv/versions/3.8.10/envs/yelp-env/lib/python3.8/site-packages/jupyter_client/session.py:719: UserWarning: Message serialization failed with:\n",
      "Out of range float values are not JSON compliant\n",
      "Supporting this message is deprecated in jupyter-client 7, please make sure your message is JSON-compliant\n",
      "  content = self.pack(content)\n"
     ]
    },
    {
     "data": {
      "application/vnd.jupyter.widget-view+json": {
       "model_id": "85472511069044d49abd20869b846f5c",
       "version_major": 2,
       "version_minor": 0
      },
      "text/plain": [
       "KeplerGl(config={'version': 'v1', 'config': {'visState': {'filters': [], 'layers': [{'id': '322xd98', 'type': …"
      ]
     },
     "metadata": {},
     "output_type": "display_data"
    }
   ],
   "source": [
    "map = KeplerGl(height=500, data={'data': df_edu},config=count_map)\n",
    "map"
   ]
  },
  {
   "attachments": {},
   "cell_type": "markdown",
   "metadata": {},
   "source": [
    "For Education, the number of business is predominant on the East Coast, with high concentrations on New York and Tampa."
   ]
  },
  {
   "attachments": {},
   "cell_type": "markdown",
   "metadata": {},
   "source": [
    "#### Stars"
   ]
  },
  {
   "cell_type": "code",
   "execution_count": 55,
   "metadata": {},
   "outputs": [
    {
     "name": "stdout",
     "output_type": "stream",
     "text": [
      "User Guide: https://docs.kepler.gl/docs/keplergl-jupyter\n"
     ]
    },
    {
     "name": "stderr",
     "output_type": "stream",
     "text": [
      "/home/andre/.pyenv/versions/3.8.10/envs/yelp-env/lib/python3.8/site-packages/jupyter_client/session.py:719: UserWarning: Message serialization failed with:\n",
      "Out of range float values are not JSON compliant\n",
      "Supporting this message is deprecated in jupyter-client 7, please make sure your message is JSON-compliant\n",
      "  content = self.pack(content)\n"
     ]
    },
    {
     "data": {
      "application/vnd.jupyter.widget-view+json": {
       "model_id": "040de295c7ab44af8778305819593d35",
       "version_major": 2,
       "version_minor": 0
      },
      "text/plain": [
       "KeplerGl(config={'version': 'v1', 'config': {'visState': {'filters': [], 'layers': [{'id': '322xd98', 'type': …"
      ]
     },
     "metadata": {},
     "output_type": "display_data"
    }
   ],
   "source": [
    "map = KeplerGl(height=500, data={'data': df_edu},config=stars_map)\n",
    "map"
   ]
  },
  {
   "attachments": {},
   "cell_type": "markdown",
   "metadata": {},
   "source": [
    "For stars, there's a distributed pattern overall, without any city being considerable over any other."
   ]
  },
  {
   "attachments": {},
   "cell_type": "markdown",
   "metadata": {},
   "source": [
    "#### Checkins"
   ]
  },
  {
   "cell_type": "code",
   "execution_count": 56,
   "metadata": {},
   "outputs": [
    {
     "name": "stdout",
     "output_type": "stream",
     "text": [
      "User Guide: https://docs.kepler.gl/docs/keplergl-jupyter\n"
     ]
    },
    {
     "name": "stderr",
     "output_type": "stream",
     "text": [
      "/home/andre/.pyenv/versions/3.8.10/envs/yelp-env/lib/python3.8/site-packages/jupyter_client/session.py:719: UserWarning: Message serialization failed with:\n",
      "Out of range float values are not JSON compliant\n",
      "Supporting this message is deprecated in jupyter-client 7, please make sure your message is JSON-compliant\n",
      "  content = self.pack(content)\n"
     ]
    },
    {
     "data": {
      "application/vnd.jupyter.widget-view+json": {
       "model_id": "4e0524990b7741dfa75c922b78a31b27",
       "version_major": 2,
       "version_minor": 0
      },
      "text/plain": [
       "KeplerGl(config={'version': 'v1', 'config': {'visState': {'filters': [], 'layers': [{'id': '322xd98', 'type': …"
      ]
     },
     "metadata": {},
     "output_type": "display_data"
    }
   ],
   "source": [
    "map = KeplerGl(height=500, data={'data': df_edu},config=checkins_map)\n",
    "map"
   ]
  },
  {
   "attachments": {},
   "cell_type": "markdown",
   "metadata": {},
   "source": [
    "Checkins are higher on the East Coast, with high peaks on New York and Florida."
   ]
  },
  {
   "attachments": {},
   "cell_type": "markdown",
   "metadata": {},
   "source": [
    "### Map Analysis Insights"
   ]
  },
  {
   "attachments": {},
   "cell_type": "markdown",
   "metadata": {},
   "source": [
    "After all these map analysis, some patterns can be clearly identified and some insight can be taken:\n",
    "\n",
    "- First, most of the maps presents a different behaviour for the East and West coast of the United States.\n",
    "- In general, the East Coast presents significantly more business registered on Yelp, while the West Coast presents slight advantages in Average of Stars and Checkins.\n",
    "- The cities with apparently higher usages of Yelp are Tampa, New York City, New Orleans, Los Angeles and San Franscisco.\n",
    "- Some interesting outliers to this general pattern:\n",
    "  - Checkins are considerable higher on East Coast for Shoppings, Fitness, Health & Medical, Automotive and Education.\n",
    "  - Food, Beauty & Spas, Nightlife and Health & Medical have an higher average of stars on the West Coast compared to the East Coast."
   ]
  },
  {
   "attachments": {},
   "cell_type": "markdown",
   "metadata": {},
   "source": [
    "## Conclusion"
   ]
  },
  {
   "attachments": {},
   "cell_type": "markdown",
   "metadata": {},
   "source": [
    "Despite the simple analysis done on this notebook, some interesting insights could be taken from the data, some of them confirming some ideas, others bringing to light some new patters. Just to recap, throughout this notebook we learned:\n",
    "- Fast Food and Counter Service Restaurants naturally leads to more visits (and thus to more Yelp Checkins), but Table Service Restaurants, with more \"in loco\" attributes, such as Bring Your Own Bottle leads to better customer experiences (and greater Reviews).\n",
    "- Services which results affects the user itself, such as Fitness & Instruction, Education and Beauty & Spas, generally have higher ratings, which seems related to more remarkable experiences.\n",
    "- Some services, such as Food and Nightlife, have a greater tendency to have more checkins by their users.\n",
    "- The East Coast have a greater number of Business, while the West Coast, have higher business ratings."
   ]
  },
  {
   "attachments": {},
   "cell_type": "markdown",
   "metadata": {},
   "source": [
    "## Further Steps"
   ]
  },
  {
   "attachments": {},
   "cell_type": "markdown",
   "metadata": {},
   "source": [
    "Possible future steps to increase this work could be:\n",
    "\n",
    "- Analize the Spatial Distribution of Users;\n",
    "- Find Checkin Frequency Patterns for each Category;\n",
    "- Recommend Business to Users based on their Reviews or recommend Potential Customers to Business;"
   ]
  }
 ],
 "metadata": {
  "kernelspec": {
   "display_name": "Python 3 (ipykernel)",
   "language": "python",
   "name": "python3"
  },
  "language_info": {
   "codemirror_mode": {
    "name": "ipython",
    "version": 3
   },
   "file_extension": ".py",
   "mimetype": "text/x-python",
   "name": "python",
   "nbconvert_exporter": "python",
   "pygments_lexer": "ipython3",
   "version": "3.8.10"
  }
 },
 "nbformat": 4,
 "nbformat_minor": 2
}
